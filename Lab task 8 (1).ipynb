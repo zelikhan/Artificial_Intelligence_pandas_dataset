{
 "cells": [
  {
   "cell_type": "markdown",
   "id": "cf57a36d",
   "metadata": {},
   "source": [
    "# LAB TASK 8"
   ]
  },
  {
   "cell_type": "markdown",
   "id": "031ece73",
   "metadata": {},
   "source": [
    "# 1. Load the diamonds dataset into a Pandas dataframe and display the first 5 rows."
   ]
  },
  {
   "cell_type": "code",
   "execution_count": 2,
   "id": "1f41aa43",
   "metadata": {},
   "outputs": [
    {
     "name": "stdout",
     "output_type": "stream",
     "text": [
      "   Unnamed: 0  carat      cut color clarity  depth  table  price     x     y  \\\n",
      "0           1   0.23    Ideal     E     SI2   61.5   55.0    326  3.95  3.98   \n",
      "1           2   0.21  Premium     E     SI1   59.8   61.0    326  3.89  3.84   \n",
      "2           3   0.23     Good     E     VS1   56.9   65.0    327  4.05  4.07   \n",
      "3           4   0.29  Premium     I     VS2   62.4   58.0    334  4.20  4.23   \n",
      "4           5   0.31     Good     J     SI2   63.3   58.0    335  4.34  4.35   \n",
      "\n",
      "      z  \n",
      "0  2.43  \n",
      "1  2.31  \n",
      "2  2.31  \n",
      "3  2.63  \n",
      "4  2.75  \n"
     ]
    }
   ],
   "source": [
    "import pandas as pd\n",
    "df=pd.read_csv(\"diamonds.csv\")\n",
    "print(df.head())"
   ]
  },
  {
   "cell_type": "markdown",
   "id": "6b67d43e",
   "metadata": {},
   "source": [
    "# 2. What is the average price of a diamond in the dataset?"
   ]
  },
  {
   "cell_type": "code",
   "execution_count": 3,
   "id": "c84daaf2",
   "metadata": {},
   "outputs": [
    {
     "name": "stdout",
     "output_type": "stream",
     "text": [
      "3932.799721913237\n"
     ]
    }
   ],
   "source": [
    "df2 = df[\"price\"].mean()\n",
    "print(df2)"
   ]
  },
  {
   "cell_type": "markdown",
   "id": "56f3b8fb",
   "metadata": {},
   "source": [
    "# 3. How many diamonds have a price greater than 5000 dollar?"
   ]
  },
  {
   "cell_type": "code",
   "execution_count": 24,
   "id": "477ad2f7",
   "metadata": {},
   "outputs": [
    {
     "data": {
      "text/plain": [
       "14714"
      ]
     },
     "execution_count": 24,
     "metadata": {},
     "output_type": "execute_result"
    }
   ],
   "source": [
    "len(df[df['price'].gt(5000)])"
   ]
  },
  {
   "cell_type": "markdown",
   "id": "880652b8",
   "metadata": {},
   "source": [
    "# 4. What is the minimum and maximum depth of a diamond in the dataset?"
   ]
  },
  {
   "cell_type": "code",
   "execution_count": 17,
   "id": "63c8fcde",
   "metadata": {},
   "outputs": [
    {
     "name": "stdout",
     "output_type": "stream",
     "text": [
      "min :  43.0\n",
      "max :  79.0\n"
     ]
    }
   ],
   "source": [
    "print(\"min : \",df[\"depth\"].min())\n",
    "print(\"max : \",df[\"depth\"].max())"
   ]
  },
  {
   "cell_type": "markdown",
   "id": "8c5d7b53",
   "metadata": {},
   "source": [
    "# 5. What is the average price per carat of a diamond in the dataset?"
   ]
  },
  {
   "cell_type": "code",
   "execution_count": 21,
   "id": "05a59fd9",
   "metadata": {},
   "outputs": [
    {
     "name": "stdout",
     "output_type": "stream",
     "text": [
      "9242.66956970988\n"
     ]
    }
   ],
   "source": [
    "df2=df.groupby('carat').price.mean()\n"
   ]
  },
  {
   "cell_type": "markdown",
   "id": "3598a057",
   "metadata": {},
   "source": [
    "# 6. How many diamonds have a carat weight greater than 1.5 and a price less than 10,000 dollars?"
   ]
  },
  {
   "cell_type": "code",
   "execution_count": 25,
   "id": "ca4d69bf",
   "metadata": {},
   "outputs": [
    {
     "data": {
      "text/plain": [
       "1423"
      ]
     },
     "execution_count": 25,
     "metadata": {},
     "output_type": "execute_result"
    }
   ],
   "source": [
    "len(df[(df[\"carat\"] > 1.5) & (df[\"price\"] < 10000)])"
   ]
  },
  {
   "cell_type": "markdown",
   "id": "6c88e33d",
   "metadata": {},
   "source": [
    "# 7. What is the average price of a diamond with a cut of \"Ideal\" and a carat weight greater than 1?"
   ]
  },
  {
   "cell_type": "code",
   "execution_count": 27,
   "id": "1f50ecc0",
   "metadata": {},
   "outputs": [
    {
     "name": "stdout",
     "output_type": "stream",
     "text": [
      "8674.226598375133\n"
     ]
    }
   ],
   "source": [
    "df2=df[(df['cut'] =='Ideal')& (df['carat']>1)]\n",
    "avg_price=df2['price'].mean()\n",
    "print(avg_price)"
   ]
  },
  {
   "cell_type": "markdown",
   "id": "ee251237",
   "metadata": {},
   "source": [
    "# 8. How many diamonds have a clarity of \"VS1\" and a cut of \"Very Good\"?"
   ]
  },
  {
   "cell_type": "code",
   "execution_count": 29,
   "id": "b2a2469b",
   "metadata": {},
   "outputs": [
    {
     "name": "stdout",
     "output_type": "stream",
     "text": [
      "1775\n"
     ]
    }
   ],
   "source": [
    "df2=df[(df['clarity'] =='VS1')& (df['cut']=='Very Good')]\n",
    "a=df2.shape[0]\n",
    "print(a)"
   ]
  },
  {
   "cell_type": "markdown",
   "id": "afdb2019",
   "metadata": {},
   "source": [
    "# 9. Create a new column called \"price_per_weight\" that shows the price per carat of each diamond."
   ]
  },
  {
   "cell_type": "code",
   "execution_count": 30,
   "id": "89bb361a",
   "metadata": {},
   "outputs": [
    {
     "name": "stdout",
     "output_type": "stream",
     "text": [
      "       Unnamed: 0  carat        cut color clarity  depth  table  price     x  \\\n",
      "0               1   0.23      Ideal     E     SI2   61.5   55.0    326  3.95   \n",
      "1               2   0.21    Premium     E     SI1   59.8   61.0    326  3.89   \n",
      "2               3   0.23       Good     E     VS1   56.9   65.0    327  4.05   \n",
      "3               4   0.29    Premium     I     VS2   62.4   58.0    334  4.20   \n",
      "4               5   0.31       Good     J     SI2   63.3   58.0    335  4.34   \n",
      "...           ...    ...        ...   ...     ...    ...    ...    ...   ...   \n",
      "53935       53936   0.72      Ideal     D     SI1   60.8   57.0   2757  5.75   \n",
      "53936       53937   0.72       Good     D     SI1   63.1   55.0   2757  5.69   \n",
      "53937       53938   0.70  Very Good     D     SI1   62.8   60.0   2757  5.66   \n",
      "53938       53939   0.86    Premium     H     SI2   61.0   58.0   2757  6.15   \n",
      "53939       53940   0.75      Ideal     D     SI2   62.2   55.0   2757  5.83   \n",
      "\n",
      "          y     z  price_per_weight  \n",
      "0      3.98  2.43       1417.391304  \n",
      "1      3.84  2.31       1552.380952  \n",
      "2      4.07  2.31       1421.739130  \n",
      "3      4.23  2.63       1151.724138  \n",
      "4      4.35  2.75       1080.645161  \n",
      "...     ...   ...               ...  \n",
      "53935  5.76  3.50       3829.166667  \n",
      "53936  5.75  3.61       3829.166667  \n",
      "53937  5.68  3.56       3938.571429  \n",
      "53938  6.12  3.74       3205.813953  \n",
      "53939  5.87  3.64       3676.000000  \n",
      "\n",
      "[53940 rows x 12 columns]\n"
     ]
    }
   ],
   "source": [
    "df['price_per_weight'] =df['price'] / df['carat']\n",
    "print(df)"
   ]
  },
  {
   "cell_type": "markdown",
   "id": "6eef2868",
   "metadata": {},
   "source": [
    "# 10. Display the top 10 most expensive diamonds in the dataset."
   ]
  },
  {
   "cell_type": "code",
   "execution_count": 32,
   "id": "1618ff59",
   "metadata": {},
   "outputs": [
    {
     "name": "stdout",
     "output_type": "stream",
     "text": [
      "       Unnamed: 0  carat        cut color clarity  depth  table  price     x  \\\n",
      "27749       27750   2.29    Premium     I     VS2   60.8   60.0  18823  8.50   \n",
      "27748       27749   2.00  Very Good     G     SI1   63.5   56.0  18818  7.90   \n",
      "27747       27748   1.51      Ideal     G      IF   61.7   55.0  18806  7.37   \n",
      "27746       27747   2.07      Ideal     G     SI2   62.5   55.0  18804  8.20   \n",
      "27745       27746   2.00  Very Good     H     SI1   62.8   57.0  18803  7.95   \n",
      "27744       27745   2.29    Premium     I     SI1   61.8   59.0  18797  8.52   \n",
      "27742       27743   2.04    Premium     H     SI1   58.1   60.0  18795  8.37   \n",
      "27743       27744   2.00    Premium     I     VS1   60.8   59.0  18795  8.13   \n",
      "27740       27741   1.71    Premium     F     VS2   62.3   59.0  18791  7.57   \n",
      "27741       27742   2.15      Ideal     G     SI2   62.6   54.0  18791  8.29   \n",
      "\n",
      "          y     z  price_per_weight  \n",
      "27749  8.47  5.16       8219.650655  \n",
      "27748  7.97  5.04       9409.000000  \n",
      "27747  7.41  4.56      12454.304636  \n",
      "27746  8.13  5.11       9084.057971  \n",
      "27745  8.00  5.01       9401.500000  \n",
      "27744  8.45  5.24       8208.296943  \n",
      "27742  8.28  4.84       9213.235294  \n",
      "27743  8.02  4.91       9397.500000  \n",
      "27740  7.53  4.70      10988.888889  \n",
      "27741  8.35  5.21       8740.000000  \n"
     ]
    }
   ],
   "source": [
    "t_m_e_d=df.sort_values(by='price',ascending=False).head(10)\n",
    "print(t_m_e_d)"
   ]
  },
  {
   "cell_type": "markdown",
   "id": "434bceed",
   "metadata": {},
   "source": [
    "# 11. Display the number of diamonds for each cut category."
   ]
  },
  {
   "cell_type": "code",
   "execution_count": 34,
   "id": "b6d316c0",
   "metadata": {},
   "outputs": [
    {
     "name": "stdout",
     "output_type": "stream",
     "text": [
      "Ideal        21551\n",
      "Premium      13791\n",
      "Very Good    12082\n",
      "Good          4906\n",
      "Fair          1610\n",
      "Name: cut, dtype: int64\n"
     ]
    }
   ],
   "source": [
    "cut_count=df['cut'].value_counts()\n",
    "print(cut_count)"
   ]
  },
  {
   "cell_type": "markdown",
   "id": "03293a76",
   "metadata": {},
   "source": [
    "# 12. What is the average price of a diamond with a color of \"D\" and a clarity of \"IF\"."
   ]
  },
  {
   "cell_type": "code",
   "execution_count": 38,
   "id": "34e73067",
   "metadata": {},
   "outputs": [
    {
     "name": "stdout",
     "output_type": "stream",
     "text": [
      "8307.37\n"
     ]
    }
   ],
   "source": [
    "df2=df[(df['color'] =='D')& (df['clarity']=='IF')]\n",
    "avg_price=df2['price'].mean()\n",
    "print(round(avg_price,2))"
   ]
  },
  {
   "cell_type": "code",
   "execution_count": null,
   "id": "8829607e",
   "metadata": {},
   "outputs": [],
   "source": []
  }
 ],
 "metadata": {
  "kernelspec": {
   "display_name": "Python 3 (ipykernel)",
   "language": "python",
   "name": "python3"
  },
  "language_info": {
   "codemirror_mode": {
    "name": "ipython",
    "version": 3
   },
   "file_extension": ".py",
   "mimetype": "text/x-python",
   "name": "python",
   "nbconvert_exporter": "python",
   "pygments_lexer": "ipython3",
   "version": "3.9.12"
  }
 },
 "nbformat": 4,
 "nbformat_minor": 5
}
